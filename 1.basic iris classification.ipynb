{
 "cells": [
  {
   "cell_type": "code",
   "execution_count": 1,
   "metadata": {},
   "outputs": [],
   "source": [
    "import numpy as np\n",
    "import pandas as pd\n",
    "import matplotlib.pyplot as plt\n",
    "from sklearn.datasets import load_iris\n",
    "from sklearn.model_selection import train_test_split"
   ]
  },
  {
   "cell_type": "code",
   "execution_count": 2,
   "metadata": {},
   "outputs": [],
   "source": [
    "from tensorflow.keras.models import Sequential  #importing sequential models from keras \n",
    "from tensorflow.keras.layers import Dense       #importing dense library used to make layers in the neural network\n",
    "from tensorflow.keras.optimizers import Adam    #importing optimizer"
   ]
  },
  {
   "cell_type": "code",
   "execution_count": 3,
   "metadata": {},
   "outputs": [],
   "source": [
    "df = load_iris()"
   ]
  },
  {
   "cell_type": "code",
   "execution_count": 4,
   "metadata": {},
   "outputs": [],
   "source": [
    "x = pd.DataFrame(df.data, columns = df.feature_names)"
   ]
  },
  {
   "cell_type": "code",
   "execution_count": 5,
   "metadata": {},
   "outputs": [],
   "source": [
    "y = pd.DataFrame(df.target, columns = ['Target'])\n",
    "y=pd.get_dummies(y['Target'])\n",
    "y.columns = df.target_names"
   ]
  },
  {
   "cell_type": "code",
   "execution_count": 6,
   "metadata": {},
   "outputs": [],
   "source": [
    "x_train,x_test,y_train,y_test=train_test_split(x,y,test_size=.20)"
   ]
  },
  {
   "cell_type": "code",
   "execution_count": 7,
   "metadata": {},
   "outputs": [],
   "source": [
    "model=Sequential() # making sequential model"
   ]
  },
  {
   "cell_type": "code",
   "execution_count": 8,
   "metadata": {},
   "outputs": [],
   "source": [
    "model.add(Dense(10,input_shape=(4,),activation='relu'))    # Making first hidden layer with 4 input to the 10 neurons "
   ]
  },
  {
   "cell_type": "code",
   "execution_count": 9,
   "metadata": {},
   "outputs": [],
   "source": [
    "model.add(Dense(10,activation='relu'))                     # Making second hidden layer, no input is gives as it is mentioned above"
   ]
  },
  {
   "cell_type": "code",
   "execution_count": 10,
   "metadata": {},
   "outputs": [],
   "source": [
    "model.add(Dense(3,activation='softmax'))                   # Making last layer of  the network "
   ]
  },
  {
   "cell_type": "code",
   "execution_count": 11,
   "metadata": {},
   "outputs": [],
   "source": [
    "optimizer=Adam(lr=0.001)                                   # Assigning optimizer with backproportion learning rate"
   ]
  },
  {
   "cell_type": "code",
   "execution_count": 12,
   "metadata": {},
   "outputs": [],
   "source": [
    "model.compile(optimizer,loss='categorical_crossentropy',metrics=['accuracy'])  #optimizing the model"
   ]
  },
  {
   "cell_type": "code",
   "execution_count": 13,
   "metadata": {},
   "outputs": [
    {
     "name": "stdout",
     "output_type": "stream",
     "text": [
      "Model: \"sequential\"\n",
      "_________________________________________________________________\n",
      "Layer (type)                 Output Shape              Param #   \n",
      "=================================================================\n",
      "dense (Dense)                (None, 10)                50        \n",
      "_________________________________________________________________\n",
      "dense_1 (Dense)              (None, 10)                110       \n",
      "_________________________________________________________________\n",
      "dense_2 (Dense)              (None, 3)                 33        \n",
      "=================================================================\n",
      "Total params: 193\n",
      "Trainable params: 193\n",
      "Non-trainable params: 0\n",
      "_________________________________________________________________\n"
     ]
    }
   ],
   "source": [
    "model.summary()        #there is always input + 1 nodes in each layer, 1 additional node is a bias"
   ]
  },
  {
   "cell_type": "code",
   "execution_count": 14,
   "metadata": {},
   "outputs": [
    {
     "name": "stdout",
     "output_type": "stream",
     "text": [
      "Epoch 1/45\n",
      "24/24 [==============================] - 1s 1ms/step - loss: 2.3072 - accuracy: 0.3242\n",
      "Epoch 2/45\n",
      "24/24 [==============================] - 0s 2ms/step - loss: 1.3193 - accuracy: 0.1313\n",
      "Epoch 3/45\n",
      "24/24 [==============================] - 0s 2ms/step - loss: 1.0445 - accuracy: 0.3983\n",
      "Epoch 4/45\n",
      "24/24 [==============================] - 0s 2ms/step - loss: 0.8858 - accuracy: 0.7467\n",
      "Epoch 5/45\n",
      "24/24 [==============================] - 0s 2ms/step - loss: 0.7507 - accuracy: 0.7657\n",
      "Epoch 6/45\n",
      "24/24 [==============================] - 0s 2ms/step - loss: 0.6697 - accuracy: 0.8291\n",
      "Epoch 7/45\n",
      "24/24 [==============================] - 0s 2ms/step - loss: 0.6022 - accuracy: 0.8781\n",
      "Epoch 8/45\n",
      "24/24 [==============================] - 0s 2ms/step - loss: 0.5370 - accuracy: 0.9238\n",
      "Epoch 9/45\n",
      "24/24 [==============================] - 0s 2ms/step - loss: 0.5367 - accuracy: 0.9259\n",
      "Epoch 10/45\n",
      "24/24 [==============================] - 0s 2ms/step - loss: 0.4668 - accuracy: 0.9498\n",
      "Epoch 11/45\n",
      "24/24 [==============================] - 0s 1ms/step - loss: 0.4664 - accuracy: 0.9371\n",
      "Epoch 12/45\n",
      "24/24 [==============================] - 0s 1ms/step - loss: 0.4646 - accuracy: 0.8485\n",
      "Epoch 13/45\n",
      "24/24 [==============================] - 0s 2ms/step - loss: 0.4146 - accuracy: 0.9074\n",
      "Epoch 14/45\n",
      "24/24 [==============================] - 0s 2ms/step - loss: 0.4159 - accuracy: 0.9779\n",
      "Epoch 15/45\n",
      "24/24 [==============================] - 0s 1ms/step - loss: 0.4220 - accuracy: 0.9259\n",
      "Epoch 16/45\n",
      "24/24 [==============================] - 0s 1ms/step - loss: 0.3916 - accuracy: 0.9404\n",
      "Epoch 17/45\n",
      "24/24 [==============================] - 0s 1ms/step - loss: 0.3403 - accuracy: 0.9493\n",
      "Epoch 18/45\n",
      "24/24 [==============================] - 0s 1ms/step - loss: 0.3545 - accuracy: 0.9449\n",
      "Epoch 19/45\n",
      "24/24 [==============================] - 0s 2ms/step - loss: 0.3187 - accuracy: 0.9662\n",
      "Epoch 20/45\n",
      "24/24 [==============================] - 0s 2ms/step - loss: 0.3189 - accuracy: 0.9404\n",
      "Epoch 21/45\n",
      "24/24 [==============================] - 0s 2ms/step - loss: 0.3434 - accuracy: 0.9659\n",
      "Epoch 22/45\n",
      "24/24 [==============================] - 0s 1ms/step - loss: 0.3150 - accuracy: 0.9621\n",
      "Epoch 23/45\n",
      "24/24 [==============================] - 0s 1ms/step - loss: 0.3213 - accuracy: 0.9286\n",
      "Epoch 24/45\n",
      "24/24 [==============================] - 0s 1ms/step - loss: 0.3150 - accuracy: 0.9553\n",
      "Epoch 25/45\n",
      "24/24 [==============================] - 0s 1ms/step - loss: 0.2885 - accuracy: 0.9738\n",
      "Epoch 26/45\n",
      "24/24 [==============================] - 0s 2ms/step - loss: 0.2592 - accuracy: 0.9332\n",
      "Epoch 27/45\n",
      "24/24 [==============================] - 0s 1ms/step - loss: 0.2886 - accuracy: 0.9610\n",
      "Epoch 28/45\n",
      "24/24 [==============================] - 0s 1ms/step - loss: 0.2710 - accuracy: 0.9892\n",
      "Epoch 29/45\n",
      "24/24 [==============================] - 0s 1ms/step - loss: 0.2377 - accuracy: 0.9697\n",
      "Epoch 30/45\n",
      "24/24 [==============================] - 0s 1ms/step - loss: 0.2219 - accuracy: 0.9785\n",
      "Epoch 31/45\n",
      "24/24 [==============================] - 0s 1ms/step - loss: 0.2710 - accuracy: 0.9167\n",
      "Epoch 32/45\n",
      "24/24 [==============================] - 0s 1ms/step - loss: 0.2136 - accuracy: 0.9907\n",
      "Epoch 33/45\n",
      "24/24 [==============================] - 0s 1ms/step - loss: 0.2509 - accuracy: 0.9217\n",
      "Epoch 34/45\n",
      "24/24 [==============================] - 0s 1ms/step - loss: 0.1944 - accuracy: 0.9809\n",
      "Epoch 35/45\n",
      "24/24 [==============================] - 0s 1ms/step - loss: 0.2398 - accuracy: 0.9176\n",
      "Epoch 36/45\n",
      "24/24 [==============================] - 0s 1ms/step - loss: 0.2165 - accuracy: 0.9668\n",
      "Epoch 37/45\n",
      "24/24 [==============================] - 0s 1ms/step - loss: 0.1955 - accuracy: 0.9607\n",
      "Epoch 38/45\n",
      "24/24 [==============================] - 0s 1ms/step - loss: 0.2115 - accuracy: 0.9522\n",
      "Epoch 39/45\n",
      "24/24 [==============================] - 0s 1ms/step - loss: 0.1891 - accuracy: 0.9746\n",
      "Epoch 40/45\n",
      "24/24 [==============================] - 0s 1ms/step - loss: 0.1990 - accuracy: 0.9502\n",
      "Epoch 41/45\n",
      "24/24 [==============================] - 0s 1ms/step - loss: 0.1743 - accuracy: 0.9627\n",
      "Epoch 42/45\n",
      "24/24 [==============================] - 0s 1ms/step - loss: 0.1821 - accuracy: 0.9430\n",
      "Epoch 43/45\n",
      "24/24 [==============================] - 0s 1ms/step - loss: 0.1394 - accuracy: 0.9814\n",
      "Epoch 44/45\n",
      "24/24 [==============================] - 0s 1ms/step - loss: 0.1790 - accuracy: 0.9584\n",
      "Epoch 45/45\n",
      "24/24 [==============================] - 0s 1ms/step - loss: 0.1779 - accuracy: 0.9584\n"
     ]
    },
    {
     "data": {
      "text/plain": [
       "<tensorflow.python.keras.callbacks.History at 0x26195052520>"
      ]
     },
     "execution_count": 14,
     "metadata": {},
     "output_type": "execute_result"
    }
   ],
   "source": [
    "#Epochs is the number of iteration the data is fed to the neural network\n",
    "model.fit(x_train,y_train,batch_size=5,epochs=45)\n",
    "#Batch size is the number of sample fed to the neural network for each epochs"
   ]
  },
  {
   "cell_type": "code",
   "execution_count": 15,
   "metadata": {},
   "outputs": [
    {
     "name": "stdout",
     "output_type": "stream",
     "text": [
      "1/1 [==============================] - 0s 149ms/step - loss: 0.1972 - accuracy: 0.9667\n"
     ]
    },
    {
     "data": {
      "text/plain": [
       "[0.19721977412700653, 0.9666666388511658]"
      ]
     },
     "execution_count": 15,
     "metadata": {},
     "output_type": "execute_result"
    }
   ],
   "source": [
    "model.evaluate(x_test,y_test)"
   ]
  }
 ],
 "metadata": {
  "kernelspec": {
   "display_name": "Python 3",
   "language": "python",
   "name": "python3"
  },
  "language_info": {
   "codemirror_mode": {
    "name": "ipython",
    "version": 3
   },
   "file_extension": ".py",
   "mimetype": "text/x-python",
   "name": "python",
   "nbconvert_exporter": "python",
   "pygments_lexer": "ipython3",
   "version": "3.8.5"
  }
 },
 "nbformat": 4,
 "nbformat_minor": 4
}
